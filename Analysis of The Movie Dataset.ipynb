{
 "cells": [
  {
   "cell_type": "markdown",
   "metadata": {},
   "source": [
    "# Analysis of The Movie Dataset\n",
    "\n",
    "\n",
    "## Table of Contents\n",
    "<ul>\n",
    "<li><a href=\"#intro\">Introduction</a></li>\n",
    "<li><a href=\"#wrangling\">Data Wrangling</a></li>\n",
    "<li><a href=\"#eda\">Exploratory Data Analysis</a></li>\n",
    "<li><a href=\"#conclusions\">Conclusions</a></li>\n",
    "</ul>"
   ]
  },
  {
   "cell_type": "markdown",
   "metadata": {},
   "source": [
    "<a id='intro'></a>\n",
    "## Introduction\n",
    "\n",
    "The dataset is sourced from [Kaggle](https://www.kaggle.com/datasets/juzershakir/tmdb-movies-dataset). The dataset containts information about 10k+ movies collected from TMDb. \n",
    "\n",
    "In this project, we dive deep into a dataset encompassing various attributes related to movies. Through meticulous data wrangling and exploratory analysis, we aim to uncover patterns and factors that contribute to a movie's success. Whether you're a budding filmmaker, a business analyst, or just a curious movie buff, join us on this analytical journey as we unravel the secrets behind blockbuster hits.\n",
    "\n",
    "\n",
    "> Here I have import statements that I would be using throughout the project."
   ]
  },
  {
   "cell_type": "code",
   "execution_count": 2,
   "metadata": {},
   "outputs": [],
   "source": [
    "# Import statements\n",
    "\n",
    "import numpy as np\n",
    "import pandas as pd\n",
    "import matplotlib.pyplot as plt\n",
    "%matplotlib inline"
   ]
  },
  {
   "cell_type": "markdown",
   "metadata": {},
   "source": [
    "<a id='wrangling'></a>\n",
    "## Data Wrangling\n",
    "\n",
    "> Here I will display the dataset and get more info about the column and null values to decide on the approach to clean the data.\n",
    "\n",
    "### General Properties"
   ]
  },
  {
   "cell_type": "code",
   "execution_count": 3,
   "metadata": {},
   "outputs": [
    {
     "data": {
      "text/html": [
       "<div>\n",
       "<style scoped>\n",
       "    .dataframe tbody tr th:only-of-type {\n",
       "        vertical-align: middle;\n",
       "    }\n",
       "\n",
       "    .dataframe tbody tr th {\n",
       "        vertical-align: top;\n",
       "    }\n",
       "\n",
       "    .dataframe thead th {\n",
       "        text-align: right;\n",
       "    }\n",
       "</style>\n",
       "<table border=\"1\" class=\"dataframe\">\n",
       "  <thead>\n",
       "    <tr style=\"text-align: right;\">\n",
       "      <th></th>\n",
       "      <th>id</th>\n",
       "      <th>imdb_id</th>\n",
       "      <th>popularity</th>\n",
       "      <th>budget</th>\n",
       "      <th>revenue</th>\n",
       "      <th>original_title</th>\n",
       "      <th>cast</th>\n",
       "      <th>homepage</th>\n",
       "      <th>director</th>\n",
       "      <th>tagline</th>\n",
       "      <th>...</th>\n",
       "      <th>overview</th>\n",
       "      <th>runtime</th>\n",
       "      <th>genres</th>\n",
       "      <th>production_companies</th>\n",
       "      <th>release_date</th>\n",
       "      <th>vote_count</th>\n",
       "      <th>vote_average</th>\n",
       "      <th>release_year</th>\n",
       "      <th>budget_adj</th>\n",
       "      <th>revenue_adj</th>\n",
       "    </tr>\n",
       "  </thead>\n",
       "  <tbody>\n",
       "    <tr>\n",
       "      <th>0</th>\n",
       "      <td>135397</td>\n",
       "      <td>tt0369610</td>\n",
       "      <td>32.985763</td>\n",
       "      <td>150000000</td>\n",
       "      <td>1513528810</td>\n",
       "      <td>Jurassic World</td>\n",
       "      <td>Chris Pratt|Bryce Dallas Howard|Irrfan Khan|Vi...</td>\n",
       "      <td>http://www.jurassicworld.com/</td>\n",
       "      <td>Colin Trevorrow</td>\n",
       "      <td>The park is open.</td>\n",
       "      <td>...</td>\n",
       "      <td>Twenty-two years after the events of Jurassic ...</td>\n",
       "      <td>124</td>\n",
       "      <td>Action|Adventure|Science Fiction|Thriller</td>\n",
       "      <td>Universal Studios|Amblin Entertainment|Legenda...</td>\n",
       "      <td>6/9/2015</td>\n",
       "      <td>5562</td>\n",
       "      <td>6.5</td>\n",
       "      <td>2015</td>\n",
       "      <td>137999939.3</td>\n",
       "      <td>1.392446e+09</td>\n",
       "    </tr>\n",
       "    <tr>\n",
       "      <th>1</th>\n",
       "      <td>76341</td>\n",
       "      <td>tt1392190</td>\n",
       "      <td>28.419936</td>\n",
       "      <td>150000000</td>\n",
       "      <td>378436354</td>\n",
       "      <td>Mad Max: Fury Road</td>\n",
       "      <td>Tom Hardy|Charlize Theron|Hugh Keays-Byrne|Nic...</td>\n",
       "      <td>http://www.madmaxmovie.com/</td>\n",
       "      <td>George Miller</td>\n",
       "      <td>What a Lovely Day.</td>\n",
       "      <td>...</td>\n",
       "      <td>An apocalyptic story set in the furthest reach...</td>\n",
       "      <td>120</td>\n",
       "      <td>Action|Adventure|Science Fiction|Thriller</td>\n",
       "      <td>Village Roadshow Pictures|Kennedy Miller Produ...</td>\n",
       "      <td>5/13/2015</td>\n",
       "      <td>6185</td>\n",
       "      <td>7.1</td>\n",
       "      <td>2015</td>\n",
       "      <td>137999939.3</td>\n",
       "      <td>3.481613e+08</td>\n",
       "    </tr>\n",
       "    <tr>\n",
       "      <th>2</th>\n",
       "      <td>262500</td>\n",
       "      <td>tt2908446</td>\n",
       "      <td>13.112507</td>\n",
       "      <td>110000000</td>\n",
       "      <td>295238201</td>\n",
       "      <td>Insurgent</td>\n",
       "      <td>Shailene Woodley|Theo James|Kate Winslet|Ansel...</td>\n",
       "      <td>http://www.thedivergentseries.movie/#insurgent</td>\n",
       "      <td>Robert Schwentke</td>\n",
       "      <td>One Choice Can Destroy You</td>\n",
       "      <td>...</td>\n",
       "      <td>Beatrice Prior must confront her inner demons ...</td>\n",
       "      <td>119</td>\n",
       "      <td>Adventure|Science Fiction|Thriller</td>\n",
       "      <td>Summit Entertainment|Mandeville Films|Red Wago...</td>\n",
       "      <td>3/18/2015</td>\n",
       "      <td>2480</td>\n",
       "      <td>6.3</td>\n",
       "      <td>2015</td>\n",
       "      <td>101199955.5</td>\n",
       "      <td>2.716190e+08</td>\n",
       "    </tr>\n",
       "    <tr>\n",
       "      <th>3</th>\n",
       "      <td>140607</td>\n",
       "      <td>tt2488496</td>\n",
       "      <td>11.173104</td>\n",
       "      <td>200000000</td>\n",
       "      <td>2068178225</td>\n",
       "      <td>Star Wars: The Force Awakens</td>\n",
       "      <td>Harrison Ford|Mark Hamill|Carrie Fisher|Adam D...</td>\n",
       "      <td>http://www.starwars.com/films/star-wars-episod...</td>\n",
       "      <td>J.J. Abrams</td>\n",
       "      <td>Every generation has a story.</td>\n",
       "      <td>...</td>\n",
       "      <td>Thirty years after defeating the Galactic Empi...</td>\n",
       "      <td>136</td>\n",
       "      <td>Action|Adventure|Science Fiction|Fantasy</td>\n",
       "      <td>Lucasfilm|Truenorth Productions|Bad Robot</td>\n",
       "      <td>12/15/2015</td>\n",
       "      <td>5292</td>\n",
       "      <td>7.5</td>\n",
       "      <td>2015</td>\n",
       "      <td>183999919.0</td>\n",
       "      <td>1.902723e+09</td>\n",
       "    </tr>\n",
       "    <tr>\n",
       "      <th>4</th>\n",
       "      <td>168259</td>\n",
       "      <td>tt2820852</td>\n",
       "      <td>9.335014</td>\n",
       "      <td>190000000</td>\n",
       "      <td>1506249360</td>\n",
       "      <td>Furious 7</td>\n",
       "      <td>Vin Diesel|Paul Walker|Jason Statham|Michelle ...</td>\n",
       "      <td>http://www.furious7.com/</td>\n",
       "      <td>James Wan</td>\n",
       "      <td>Vengeance Hits Home</td>\n",
       "      <td>...</td>\n",
       "      <td>Deckard Shaw seeks revenge against Dominic Tor...</td>\n",
       "      <td>137</td>\n",
       "      <td>Action|Crime|Thriller</td>\n",
       "      <td>Universal Pictures|Original Film|Media Rights ...</td>\n",
       "      <td>4/1/2015</td>\n",
       "      <td>2947</td>\n",
       "      <td>7.3</td>\n",
       "      <td>2015</td>\n",
       "      <td>174799923.1</td>\n",
       "      <td>1.385749e+09</td>\n",
       "    </tr>\n",
       "  </tbody>\n",
       "</table>\n",
       "<p>5 rows × 21 columns</p>\n",
       "</div>"
      ],
      "text/plain": [
       "       id    imdb_id  popularity     budget     revenue  \\\n",
       "0  135397  tt0369610   32.985763  150000000  1513528810   \n",
       "1   76341  tt1392190   28.419936  150000000   378436354   \n",
       "2  262500  tt2908446   13.112507  110000000   295238201   \n",
       "3  140607  tt2488496   11.173104  200000000  2068178225   \n",
       "4  168259  tt2820852    9.335014  190000000  1506249360   \n",
       "\n",
       "                 original_title  \\\n",
       "0                Jurassic World   \n",
       "1            Mad Max: Fury Road   \n",
       "2                     Insurgent   \n",
       "3  Star Wars: The Force Awakens   \n",
       "4                     Furious 7   \n",
       "\n",
       "                                                cast  \\\n",
       "0  Chris Pratt|Bryce Dallas Howard|Irrfan Khan|Vi...   \n",
       "1  Tom Hardy|Charlize Theron|Hugh Keays-Byrne|Nic...   \n",
       "2  Shailene Woodley|Theo James|Kate Winslet|Ansel...   \n",
       "3  Harrison Ford|Mark Hamill|Carrie Fisher|Adam D...   \n",
       "4  Vin Diesel|Paul Walker|Jason Statham|Michelle ...   \n",
       "\n",
       "                                            homepage          director  \\\n",
       "0                      http://www.jurassicworld.com/   Colin Trevorrow   \n",
       "1                        http://www.madmaxmovie.com/     George Miller   \n",
       "2     http://www.thedivergentseries.movie/#insurgent  Robert Schwentke   \n",
       "3  http://www.starwars.com/films/star-wars-episod...       J.J. Abrams   \n",
       "4                           http://www.furious7.com/         James Wan   \n",
       "\n",
       "                         tagline  ...  \\\n",
       "0              The park is open.  ...   \n",
       "1             What a Lovely Day.  ...   \n",
       "2     One Choice Can Destroy You  ...   \n",
       "3  Every generation has a story.  ...   \n",
       "4            Vengeance Hits Home  ...   \n",
       "\n",
       "                                            overview runtime  \\\n",
       "0  Twenty-two years after the events of Jurassic ...     124   \n",
       "1  An apocalyptic story set in the furthest reach...     120   \n",
       "2  Beatrice Prior must confront her inner demons ...     119   \n",
       "3  Thirty years after defeating the Galactic Empi...     136   \n",
       "4  Deckard Shaw seeks revenge against Dominic Tor...     137   \n",
       "\n",
       "                                      genres  \\\n",
       "0  Action|Adventure|Science Fiction|Thriller   \n",
       "1  Action|Adventure|Science Fiction|Thriller   \n",
       "2         Adventure|Science Fiction|Thriller   \n",
       "3   Action|Adventure|Science Fiction|Fantasy   \n",
       "4                      Action|Crime|Thriller   \n",
       "\n",
       "                                production_companies release_date vote_count  \\\n",
       "0  Universal Studios|Amblin Entertainment|Legenda...     6/9/2015       5562   \n",
       "1  Village Roadshow Pictures|Kennedy Miller Produ...    5/13/2015       6185   \n",
       "2  Summit Entertainment|Mandeville Films|Red Wago...    3/18/2015       2480   \n",
       "3          Lucasfilm|Truenorth Productions|Bad Robot   12/15/2015       5292   \n",
       "4  Universal Pictures|Original Film|Media Rights ...     4/1/2015       2947   \n",
       "\n",
       "   vote_average  release_year   budget_adj   revenue_adj  \n",
       "0           6.5          2015  137999939.3  1.392446e+09  \n",
       "1           7.1          2015  137999939.3  3.481613e+08  \n",
       "2           6.3          2015  101199955.5  2.716190e+08  \n",
       "3           7.5          2015  183999919.0  1.902723e+09  \n",
       "4           7.3          2015  174799923.1  1.385749e+09  \n",
       "\n",
       "[5 rows x 21 columns]"
      ]
     },
     "execution_count": 3,
     "metadata": {},
     "output_type": "execute_result"
    }
   ],
   "source": [
    "df = pd.read_csv('tmdb_movies_data.csv')\n",
    "\n",
    "df.head()"
   ]
  },
  {
   "cell_type": "code",
   "execution_count": 4,
   "metadata": {},
   "outputs": [
    {
     "name": "stdout",
     "output_type": "stream",
     "text": [
      "<class 'pandas.core.frame.DataFrame'>\n",
      "RangeIndex: 10866 entries, 0 to 10865\n",
      "Data columns (total 21 columns):\n",
      " #   Column                Non-Null Count  Dtype  \n",
      "---  ------                --------------  -----  \n",
      " 0   id                    10866 non-null  int64  \n",
      " 1   imdb_id               10856 non-null  object \n",
      " 2   popularity            10866 non-null  float64\n",
      " 3   budget                10866 non-null  int64  \n",
      " 4   revenue               10866 non-null  int64  \n",
      " 5   original_title        10866 non-null  object \n",
      " 6   cast                  10790 non-null  object \n",
      " 7   homepage              2936 non-null   object \n",
      " 8   director              10822 non-null  object \n",
      " 9   tagline               8042 non-null   object \n",
      " 10  keywords              9373 non-null   object \n",
      " 11  overview              10862 non-null  object \n",
      " 12  runtime               10866 non-null  int64  \n",
      " 13  genres                10843 non-null  object \n",
      " 14  production_companies  9836 non-null   object \n",
      " 15  release_date          10866 non-null  object \n",
      " 16  vote_count            10866 non-null  int64  \n",
      " 17  vote_average          10866 non-null  float64\n",
      " 18  release_year          10866 non-null  int64  \n",
      " 19  budget_adj            10866 non-null  float64\n",
      " 20  revenue_adj           10866 non-null  float64\n",
      "dtypes: float64(4), int64(6), object(11)\n",
      "memory usage: 1.7+ MB\n"
     ]
    }
   ],
   "source": [
    "df.info()"
   ]
  },
  {
   "cell_type": "code",
   "execution_count": 5,
   "metadata": {},
   "outputs": [
    {
     "data": {
      "text/plain": [
       "(10866, 21)"
      ]
     },
     "execution_count": 5,
     "metadata": {},
     "output_type": "execute_result"
    }
   ],
   "source": [
    "df.shape"
   ]
  },
  {
   "cell_type": "code",
   "execution_count": 6,
   "metadata": {},
   "outputs": [
    {
     "data": {
      "text/html": [
       "<div>\n",
       "<style scoped>\n",
       "    .dataframe tbody tr th:only-of-type {\n",
       "        vertical-align: middle;\n",
       "    }\n",
       "\n",
       "    .dataframe tbody tr th {\n",
       "        vertical-align: top;\n",
       "    }\n",
       "\n",
       "    .dataframe thead th {\n",
       "        text-align: right;\n",
       "    }\n",
       "</style>\n",
       "<table border=\"1\" class=\"dataframe\">\n",
       "  <thead>\n",
       "    <tr style=\"text-align: right;\">\n",
       "      <th></th>\n",
       "      <th>id</th>\n",
       "      <th>popularity</th>\n",
       "      <th>budget</th>\n",
       "      <th>revenue</th>\n",
       "      <th>runtime</th>\n",
       "      <th>vote_count</th>\n",
       "      <th>vote_average</th>\n",
       "      <th>release_year</th>\n",
       "      <th>budget_adj</th>\n",
       "      <th>revenue_adj</th>\n",
       "    </tr>\n",
       "  </thead>\n",
       "  <tbody>\n",
       "    <tr>\n",
       "      <th>count</th>\n",
       "      <td>10866.000000</td>\n",
       "      <td>10866.000000</td>\n",
       "      <td>1.086600e+04</td>\n",
       "      <td>1.086600e+04</td>\n",
       "      <td>10866.000000</td>\n",
       "      <td>10866.000000</td>\n",
       "      <td>10866.000000</td>\n",
       "      <td>10866.000000</td>\n",
       "      <td>1.086600e+04</td>\n",
       "      <td>1.086600e+04</td>\n",
       "    </tr>\n",
       "    <tr>\n",
       "      <th>mean</th>\n",
       "      <td>66064.177434</td>\n",
       "      <td>0.646441</td>\n",
       "      <td>1.462570e+07</td>\n",
       "      <td>3.982332e+07</td>\n",
       "      <td>102.070863</td>\n",
       "      <td>217.389748</td>\n",
       "      <td>5.974922</td>\n",
       "      <td>2001.322658</td>\n",
       "      <td>1.755104e+07</td>\n",
       "      <td>5.136436e+07</td>\n",
       "    </tr>\n",
       "    <tr>\n",
       "      <th>std</th>\n",
       "      <td>92130.136561</td>\n",
       "      <td>1.000185</td>\n",
       "      <td>3.091321e+07</td>\n",
       "      <td>1.170035e+08</td>\n",
       "      <td>31.381405</td>\n",
       "      <td>575.619058</td>\n",
       "      <td>0.935142</td>\n",
       "      <td>12.812941</td>\n",
       "      <td>3.430616e+07</td>\n",
       "      <td>1.446325e+08</td>\n",
       "    </tr>\n",
       "    <tr>\n",
       "      <th>min</th>\n",
       "      <td>5.000000</td>\n",
       "      <td>0.000065</td>\n",
       "      <td>0.000000e+00</td>\n",
       "      <td>0.000000e+00</td>\n",
       "      <td>0.000000</td>\n",
       "      <td>10.000000</td>\n",
       "      <td>1.500000</td>\n",
       "      <td>1960.000000</td>\n",
       "      <td>0.000000e+00</td>\n",
       "      <td>0.000000e+00</td>\n",
       "    </tr>\n",
       "    <tr>\n",
       "      <th>25%</th>\n",
       "      <td>10596.250000</td>\n",
       "      <td>0.207583</td>\n",
       "      <td>0.000000e+00</td>\n",
       "      <td>0.000000e+00</td>\n",
       "      <td>90.000000</td>\n",
       "      <td>17.000000</td>\n",
       "      <td>5.400000</td>\n",
       "      <td>1995.000000</td>\n",
       "      <td>0.000000e+00</td>\n",
       "      <td>0.000000e+00</td>\n",
       "    </tr>\n",
       "    <tr>\n",
       "      <th>50%</th>\n",
       "      <td>20669.000000</td>\n",
       "      <td>0.383856</td>\n",
       "      <td>0.000000e+00</td>\n",
       "      <td>0.000000e+00</td>\n",
       "      <td>99.000000</td>\n",
       "      <td>38.000000</td>\n",
       "      <td>6.000000</td>\n",
       "      <td>2006.000000</td>\n",
       "      <td>0.000000e+00</td>\n",
       "      <td>0.000000e+00</td>\n",
       "    </tr>\n",
       "    <tr>\n",
       "      <th>75%</th>\n",
       "      <td>75610.000000</td>\n",
       "      <td>0.713817</td>\n",
       "      <td>1.500000e+07</td>\n",
       "      <td>2.400000e+07</td>\n",
       "      <td>111.000000</td>\n",
       "      <td>145.750000</td>\n",
       "      <td>6.600000</td>\n",
       "      <td>2011.000000</td>\n",
       "      <td>2.085325e+07</td>\n",
       "      <td>3.369710e+07</td>\n",
       "    </tr>\n",
       "    <tr>\n",
       "      <th>max</th>\n",
       "      <td>417859.000000</td>\n",
       "      <td>32.985763</td>\n",
       "      <td>4.250000e+08</td>\n",
       "      <td>2.781506e+09</td>\n",
       "      <td>900.000000</td>\n",
       "      <td>9767.000000</td>\n",
       "      <td>9.200000</td>\n",
       "      <td>2015.000000</td>\n",
       "      <td>4.250000e+08</td>\n",
       "      <td>2.827124e+09</td>\n",
       "    </tr>\n",
       "  </tbody>\n",
       "</table>\n",
       "</div>"
      ],
      "text/plain": [
       "                  id    popularity        budget       revenue       runtime  \\\n",
       "count   10866.000000  10866.000000  1.086600e+04  1.086600e+04  10866.000000   \n",
       "mean    66064.177434      0.646441  1.462570e+07  3.982332e+07    102.070863   \n",
       "std     92130.136561      1.000185  3.091321e+07  1.170035e+08     31.381405   \n",
       "min         5.000000      0.000065  0.000000e+00  0.000000e+00      0.000000   \n",
       "25%     10596.250000      0.207583  0.000000e+00  0.000000e+00     90.000000   \n",
       "50%     20669.000000      0.383856  0.000000e+00  0.000000e+00     99.000000   \n",
       "75%     75610.000000      0.713817  1.500000e+07  2.400000e+07    111.000000   \n",
       "max    417859.000000     32.985763  4.250000e+08  2.781506e+09    900.000000   \n",
       "\n",
       "         vote_count  vote_average  release_year    budget_adj   revenue_adj  \n",
       "count  10866.000000  10866.000000  10866.000000  1.086600e+04  1.086600e+04  \n",
       "mean     217.389748      5.974922   2001.322658  1.755104e+07  5.136436e+07  \n",
       "std      575.619058      0.935142     12.812941  3.430616e+07  1.446325e+08  \n",
       "min       10.000000      1.500000   1960.000000  0.000000e+00  0.000000e+00  \n",
       "25%       17.000000      5.400000   1995.000000  0.000000e+00  0.000000e+00  \n",
       "50%       38.000000      6.000000   2006.000000  0.000000e+00  0.000000e+00  \n",
       "75%      145.750000      6.600000   2011.000000  2.085325e+07  3.369710e+07  \n",
       "max     9767.000000      9.200000   2015.000000  4.250000e+08  2.827124e+09  "
      ]
     },
     "execution_count": 6,
     "metadata": {},
     "output_type": "execute_result"
    }
   ],
   "source": [
    "df.describe()"
   ]
  },
  {
   "cell_type": "code",
   "execution_count": 7,
   "metadata": {},
   "outputs": [
    {
     "data": {
      "text/plain": [
       "1"
      ]
     },
     "execution_count": 7,
     "metadata": {},
     "output_type": "execute_result"
    }
   ],
   "source": [
    "df.duplicated().sum()"
   ]
  },
  {
   "cell_type": "markdown",
   "metadata": {},
   "source": [
    "###  **From the steps above, this is what I will be doing:**\n",
    "\n",
    "> 1- The following **columns will be dropped** as they are not needed for this analysis ['homepage', 'tagline', 'keywords', 'overview', 'release_date']\n",
    "\n",
    "> 2- Replace all 0's to **null**/**NaN**, in columns ['budget', 'revenue', 'runtime']\n",
    "\n",
    "> 3- Drop **null**/**NaN** values \n",
    "\n",
    "> 4- We have one **duplicate** value that will also be dropped\n",
    "\n",
    "> 5- **Profit** column will calculated from **revenue** & **budget** to analyze profitable movies."
   ]
  },
  {
   "cell_type": "markdown",
   "metadata": {},
   "source": [
    "# Data Cleaning"
   ]
  },
  {
   "cell_type": "markdown",
   "metadata": {},
   "source": [
    "### 1- Drop columns that will not be used"
   ]
  },
  {
   "cell_type": "code",
   "execution_count": 8,
   "metadata": {},
   "outputs": [],
   "source": [
    "df.drop(['homepage', 'tagline', 'keywords', 'overview', 'release_date'], axis=1, inplace=True)"
   ]
  },
  {
   "cell_type": "markdown",
   "metadata": {},
   "source": [
    "### 2- Replace all 0 values to NaN "
   ]
  },
  {
   "cell_type": "code",
   "execution_count": 9,
   "metadata": {},
   "outputs": [],
   "source": [
    "df['budget'] = df['budget'].replace(0, np.NaN)\n",
    "df['runtime'] = df['runtime'].replace(0, np.NaN)\n",
    "df['revenue'] = df['revenue'].replace(0, np.NaN)"
   ]
  },
  {
   "cell_type": "markdown",
   "metadata": {},
   "source": [
    "### 3- Drop null values"
   ]
  },
  {
   "cell_type": "code",
   "execution_count": 10,
   "metadata": {},
   "outputs": [],
   "source": [
    "df.dropna(inplace=True)"
   ]
  },
  {
   "cell_type": "markdown",
   "metadata": {},
   "source": [
    "### 4- Drop duplicates"
   ]
  },
  {
   "cell_type": "code",
   "execution_count": 11,
   "metadata": {},
   "outputs": [],
   "source": [
    "df.drop_duplicates(inplace=True)"
   ]
  },
  {
   "cell_type": "markdown",
   "metadata": {},
   "source": [
    "### 5- Add profit & profit_adj columns"
   ]
  },
  {
   "cell_type": "code",
   "execution_count": 12,
   "metadata": {},
   "outputs": [],
   "source": [
    "df.insert(5, 'profit', df['revenue'] - df['budget'])\n",
    "\n",
    "df.insert(14, 'profit_adj', df['revenue'] - df['budget'])"
   ]
  },
  {
   "cell_type": "code",
   "execution_count": 13,
   "metadata": {},
   "outputs": [
    {
     "data": {
      "text/plain": [
       "True    3805\n",
       "dtype: int64"
      ]
     },
     "execution_count": 13,
     "metadata": {},
     "output_type": "execute_result"
    }
   ],
   "source": [
    "(df['profit'] == df['profit_adj']).value_counts()"
   ]
  },
  {
   "cell_type": "markdown",
   "metadata": {},
   "source": [
    "> Since **'profit'** & **'profit_adj'** are the same, 'profit_adj' will be dropped along with 'budget_adj' & 'revenue_adj'"
   ]
  },
  {
   "cell_type": "code",
   "execution_count": 14,
   "metadata": {},
   "outputs": [],
   "source": [
    "df.drop(['budget_adj', 'revenue_adj', 'profit_adj'], axis=1, inplace=True)"
   ]
  },
  {
   "cell_type": "code",
   "execution_count": 15,
   "metadata": {},
   "outputs": [
    {
     "name": "stdout",
     "output_type": "stream",
     "text": [
      "<class 'pandas.core.frame.DataFrame'>\n",
      "Int64Index: 3805 entries, 0 to 10848\n",
      "Data columns (total 15 columns):\n",
      " #   Column                Non-Null Count  Dtype  \n",
      "---  ------                --------------  -----  \n",
      " 0   id                    3805 non-null   int64  \n",
      " 1   imdb_id               3805 non-null   object \n",
      " 2   popularity            3805 non-null   float64\n",
      " 3   budget                3805 non-null   float64\n",
      " 4   revenue               3805 non-null   float64\n",
      " 5   profit                3805 non-null   float64\n",
      " 6   original_title        3805 non-null   object \n",
      " 7   cast                  3805 non-null   object \n",
      " 8   director              3805 non-null   object \n",
      " 9   runtime               3805 non-null   float64\n",
      " 10  genres                3805 non-null   object \n",
      " 11  production_companies  3805 non-null   object \n",
      " 12  vote_count            3805 non-null   int64  \n",
      " 13  vote_average          3805 non-null   float64\n",
      " 14  release_year          3805 non-null   int64  \n",
      "dtypes: float64(6), int64(3), object(6)\n",
      "memory usage: 475.6+ KB\n"
     ]
    }
   ],
   "source": [
    "df.info()"
   ]
  },
  {
   "cell_type": "markdown",
   "metadata": {},
   "source": [
    "> The dataset is now ready, I lost almost a third of the dataset during the cleaning process. I am now left with **3805 rows** and **15 columns**"
   ]
  },
  {
   "cell_type": "code",
   "execution_count": 16,
   "metadata": {},
   "outputs": [
    {
     "data": {
      "text/html": [
       "<div>\n",
       "<style scoped>\n",
       "    .dataframe tbody tr th:only-of-type {\n",
       "        vertical-align: middle;\n",
       "    }\n",
       "\n",
       "    .dataframe tbody tr th {\n",
       "        vertical-align: top;\n",
       "    }\n",
       "\n",
       "    .dataframe thead th {\n",
       "        text-align: right;\n",
       "    }\n",
       "</style>\n",
       "<table border=\"1\" class=\"dataframe\">\n",
       "  <thead>\n",
       "    <tr style=\"text-align: right;\">\n",
       "      <th></th>\n",
       "      <th>id</th>\n",
       "      <th>popularity</th>\n",
       "      <th>budget</th>\n",
       "      <th>revenue</th>\n",
       "      <th>profit</th>\n",
       "      <th>runtime</th>\n",
       "      <th>vote_count</th>\n",
       "      <th>vote_average</th>\n",
       "      <th>release_year</th>\n",
       "    </tr>\n",
       "  </thead>\n",
       "  <tbody>\n",
       "    <tr>\n",
       "      <th>count</th>\n",
       "      <td>3805.000000</td>\n",
       "      <td>3805.000000</td>\n",
       "      <td>3.805000e+03</td>\n",
       "      <td>3.805000e+03</td>\n",
       "      <td>3.805000e+03</td>\n",
       "      <td>3805.000000</td>\n",
       "      <td>3805.000000</td>\n",
       "      <td>3805.000000</td>\n",
       "      <td>3805.000000</td>\n",
       "    </tr>\n",
       "    <tr>\n",
       "      <th>mean</th>\n",
       "      <td>40040.372668</td>\n",
       "      <td>1.203784</td>\n",
       "      <td>3.760800e+07</td>\n",
       "      <td>1.089734e+08</td>\n",
       "      <td>7.136540e+07</td>\n",
       "      <td>109.351117</td>\n",
       "      <td>534.159001</td>\n",
       "      <td>6.170565</td>\n",
       "      <td>2001.229172</td>\n",
       "    </tr>\n",
       "    <tr>\n",
       "      <th>std</th>\n",
       "      <td>67585.708616</td>\n",
       "      <td>1.480569</td>\n",
       "      <td>4.232179e+07</td>\n",
       "      <td>1.772976e+08</td>\n",
       "      <td>1.513764e+08</td>\n",
       "      <td>19.845678</td>\n",
       "      <td>883.757588</td>\n",
       "      <td>0.792437</td>\n",
       "      <td>11.329616</td>\n",
       "    </tr>\n",
       "    <tr>\n",
       "      <th>min</th>\n",
       "      <td>5.000000</td>\n",
       "      <td>0.010335</td>\n",
       "      <td>1.000000e+00</td>\n",
       "      <td>2.000000e+00</td>\n",
       "      <td>-4.139124e+08</td>\n",
       "      <td>15.000000</td>\n",
       "      <td>10.000000</td>\n",
       "      <td>2.200000</td>\n",
       "      <td>1960.000000</td>\n",
       "    </tr>\n",
       "    <tr>\n",
       "      <th>25%</th>\n",
       "      <td>5925.000000</td>\n",
       "      <td>0.470651</td>\n",
       "      <td>1.000000e+07</td>\n",
       "      <td>1.433379e+07</td>\n",
       "      <td>-1.173477e+06</td>\n",
       "      <td>96.000000</td>\n",
       "      <td>74.000000</td>\n",
       "      <td>5.700000</td>\n",
       "      <td>1995.000000</td>\n",
       "    </tr>\n",
       "    <tr>\n",
       "      <th>50%</th>\n",
       "      <td>11253.000000</td>\n",
       "      <td>0.810805</td>\n",
       "      <td>2.500000e+07</td>\n",
       "      <td>4.621664e+07</td>\n",
       "      <td>2.047434e+07</td>\n",
       "      <td>106.000000</td>\n",
       "      <td>209.000000</td>\n",
       "      <td>6.200000</td>\n",
       "      <td>2004.000000</td>\n",
       "    </tr>\n",
       "    <tr>\n",
       "      <th>75%</th>\n",
       "      <td>38579.000000</td>\n",
       "      <td>1.387163</td>\n",
       "      <td>5.000000e+07</td>\n",
       "      <td>1.260695e+08</td>\n",
       "      <td>8.347333e+07</td>\n",
       "      <td>119.000000</td>\n",
       "      <td>584.000000</td>\n",
       "      <td>6.700000</td>\n",
       "      <td>2010.000000</td>\n",
       "    </tr>\n",
       "    <tr>\n",
       "      <th>max</th>\n",
       "      <td>417859.000000</td>\n",
       "      <td>32.985763</td>\n",
       "      <td>4.250000e+08</td>\n",
       "      <td>2.781506e+09</td>\n",
       "      <td>2.544506e+09</td>\n",
       "      <td>338.000000</td>\n",
       "      <td>9767.000000</td>\n",
       "      <td>8.400000</td>\n",
       "      <td>2015.000000</td>\n",
       "    </tr>\n",
       "  </tbody>\n",
       "</table>\n",
       "</div>"
      ],
      "text/plain": [
       "                  id   popularity        budget       revenue        profit  \\\n",
       "count    3805.000000  3805.000000  3.805000e+03  3.805000e+03  3.805000e+03   \n",
       "mean    40040.372668     1.203784  3.760800e+07  1.089734e+08  7.136540e+07   \n",
       "std     67585.708616     1.480569  4.232179e+07  1.772976e+08  1.513764e+08   \n",
       "min         5.000000     0.010335  1.000000e+00  2.000000e+00 -4.139124e+08   \n",
       "25%      5925.000000     0.470651  1.000000e+07  1.433379e+07 -1.173477e+06   \n",
       "50%     11253.000000     0.810805  2.500000e+07  4.621664e+07  2.047434e+07   \n",
       "75%     38579.000000     1.387163  5.000000e+07  1.260695e+08  8.347333e+07   \n",
       "max    417859.000000    32.985763  4.250000e+08  2.781506e+09  2.544506e+09   \n",
       "\n",
       "           runtime   vote_count  vote_average  release_year  \n",
       "count  3805.000000  3805.000000   3805.000000   3805.000000  \n",
       "mean    109.351117   534.159001      6.170565   2001.229172  \n",
       "std      19.845678   883.757588      0.792437     11.329616  \n",
       "min      15.000000    10.000000      2.200000   1960.000000  \n",
       "25%      96.000000    74.000000      5.700000   1995.000000  \n",
       "50%     106.000000   209.000000      6.200000   2004.000000  \n",
       "75%     119.000000   584.000000      6.700000   2010.000000  \n",
       "max     338.000000  9767.000000      8.400000   2015.000000  "
      ]
     },
     "execution_count": 16,
     "metadata": {},
     "output_type": "execute_result"
    }
   ],
   "source": [
    "df.describe()"
   ]
  },
  {
   "cell_type": "markdown",
   "metadata": {},
   "source": [
    "<a id='eda'></a>\n",
    "## Exploratory Data Analysis"
   ]
  },
  {
   "cell_type": "markdown",
   "metadata": {},
   "source": [
    "### Research Question 1: What are the most popular movies?"
   ]
  },
  {
   "cell_type": "code",
   "execution_count": 17,
   "metadata": {},
   "outputs": [
    {
     "data": {
      "text/plain": [
       "count    3805.000000\n",
       "mean        1.203784\n",
       "std         1.480569\n",
       "min         0.010335\n",
       "25%         0.470651\n",
       "50%         0.810805\n",
       "75%         1.387163\n",
       "max        32.985763\n",
       "Name: popularity, dtype: float64"
      ]
     },
     "execution_count": 17,
     "metadata": {},
     "output_type": "execute_result"
    }
   ],
   "source": [
    "df['popularity'].describe()"
   ]
  },
  {
   "cell_type": "code",
   "execution_count": 18,
   "metadata": {},
   "outputs": [
    {
     "data": {
      "image/png": "[encoded data removed]",
      "text/plain": [
       "<Figure size 900x500 with 1 Axes>"
      ]
     },
     "metadata": {},
     "output_type": "display_data"
    }
   ],
   "source": [
    "plt.figure(figsize=(9,5), dpi = 100)\n",
    "plt.title('Popularity of Movies', fontsize=18)\n",
    "plt.xlabel('Popularity', fontsize=15)\n",
    "plt.ylabel('Number of Movies', fontsize=15)\n",
    "plt.hist(df['popularity'], rwidth = 0.9, bins =35);"
   ]
  },
  {
   "cell_type": "markdown",
   "metadata": {},
   "source": [
    "> It appears that most of the movies have a **popularity of around 1 and less**. The max value is **32**, I need to investigate this more\n",
    "\n",
    "> I will check movies of **popularity that exceeds 10**"
   ]
  },
  {
   "cell_type": "code",
   "execution_count": 19,
   "metadata": {},
   "outputs": [
    {
     "data": {
      "text/html": [
       "<div>\n",
       "<style scoped>\n",
       "    .dataframe tbody tr th:only-of-type {\n",
       "        vertical-align: middle;\n",
       "    }\n",
       "\n",
       "    .dataframe tbody tr th {\n",
       "        vertical-align: top;\n",
       "    }\n",
       "\n",
       "    .dataframe thead th {\n",
       "        text-align: right;\n",
       "    }\n",
       "</style>\n",
       "<table border=\"1\" class=\"dataframe\">\n",
       "  <thead>\n",
       "    <tr style=\"text-align: right;\">\n",
       "      <th></th>\n",
       "      <th>id</th>\n",
       "      <th>imdb_id</th>\n",
       "      <th>popularity</th>\n",
       "      <th>budget</th>\n",
       "      <th>revenue</th>\n",
       "      <th>profit</th>\n",
       "      <th>original_title</th>\n",
       "      <th>cast</th>\n",
       "      <th>director</th>\n",
       "      <th>runtime</th>\n",
       "      <th>genres</th>\n",
       "      <th>production_companies</th>\n",
       "      <th>vote_count</th>\n",
       "      <th>vote_average</th>\n",
       "      <th>release_year</th>\n",
       "    </tr>\n",
       "  </thead>\n",
       "  <tbody>\n",
       "    <tr>\n",
       "      <th>0</th>\n",
       "      <td>135397</td>\n",
       "      <td>tt0369610</td>\n",
       "      <td>32.985763</td>\n",
       "      <td>150000000.0</td>\n",
       "      <td>1.513529e+09</td>\n",
       "      <td>1.363529e+09</td>\n",
       "      <td>Jurassic World</td>\n",
       "      <td>Chris Pratt|Bryce Dallas Howard|Irrfan Khan|Vi...</td>\n",
       "      <td>Colin Trevorrow</td>\n",
       "      <td>124.0</td>\n",
       "      <td>Action|Adventure|Science Fiction|Thriller</td>\n",
       "      <td>Universal Studios|Amblin Entertainment|Legenda...</td>\n",
       "      <td>5562</td>\n",
       "      <td>6.5</td>\n",
       "      <td>2015</td>\n",
       "    </tr>\n",
       "    <tr>\n",
       "      <th>1</th>\n",
       "      <td>76341</td>\n",
       "      <td>tt1392190</td>\n",
       "      <td>28.419936</td>\n",
       "      <td>150000000.0</td>\n",
       "      <td>3.784364e+08</td>\n",
       "      <td>2.284364e+08</td>\n",
       "      <td>Mad Max: Fury Road</td>\n",
       "      <td>Tom Hardy|Charlize Theron|Hugh Keays-Byrne|Nic...</td>\n",
       "      <td>George Miller</td>\n",
       "      <td>120.0</td>\n",
       "      <td>Action|Adventure|Science Fiction|Thriller</td>\n",
       "      <td>Village Roadshow Pictures|Kennedy Miller Produ...</td>\n",
       "      <td>6185</td>\n",
       "      <td>7.1</td>\n",
       "      <td>2015</td>\n",
       "    </tr>\n",
       "    <tr>\n",
       "      <th>2</th>\n",
       "      <td>262500</td>\n",
       "      <td>tt2908446</td>\n",
       "      <td>13.112507</td>\n",
       "      <td>110000000.0</td>\n",
       "      <td>2.952382e+08</td>\n",
       "      <td>1.852382e+08</td>\n",
       "      <td>Insurgent</td>\n",
       "      <td>Shailene Woodley|Theo James|Kate Winslet|Ansel...</td>\n",
       "      <td>Robert Schwentke</td>\n",
       "      <td>119.0</td>\n",
       "      <td>Adventure|Science Fiction|Thriller</td>\n",
       "      <td>Summit Entertainment|Mandeville Films|Red Wago...</td>\n",
       "      <td>2480</td>\n",
       "      <td>6.3</td>\n",
       "      <td>2015</td>\n",
       "    </tr>\n",
       "    <tr>\n",
       "      <th>3</th>\n",
       "      <td>140607</td>\n",
       "      <td>tt2488496</td>\n",
       "      <td>11.173104</td>\n",
       "      <td>200000000.0</td>\n",
       "      <td>2.068178e+09</td>\n",
       "      <td>1.868178e+09</td>\n",
       "      <td>Star Wars: The Force Awakens</td>\n",
       "      <td>Harrison Ford|Mark Hamill|Carrie Fisher|Adam D...</td>\n",
       "      <td>J.J. Abrams</td>\n",
       "      <td>136.0</td>\n",
       "      <td>Action|Adventure|Science Fiction|Fantasy</td>\n",
       "      <td>Lucasfilm|Truenorth Productions|Bad Robot</td>\n",
       "      <td>5292</td>\n",
       "      <td>7.5</td>\n",
       "      <td>2015</td>\n",
       "    </tr>\n",
       "    <tr>\n",
       "      <th>629</th>\n",
       "      <td>157336</td>\n",
       "      <td>tt0816692</td>\n",
       "      <td>24.949134</td>\n",
       "      <td>165000000.0</td>\n",
       "      <td>6.217525e+08</td>\n",
       "      <td>4.567525e+08</td>\n",
       "      <td>Interstellar</td>\n",
       "      <td>Matthew McConaughey|Jessica Chastain|Anne Hath...</td>\n",
       "      <td>Christopher Nolan</td>\n",
       "      <td>169.0</td>\n",
       "      <td>Adventure|Drama|Science Fiction</td>\n",
       "      <td>Paramount Pictures|Legendary Pictures|Warner B...</td>\n",
       "      <td>6498</td>\n",
       "      <td>8.0</td>\n",
       "      <td>2014</td>\n",
       "    </tr>\n",
       "    <tr>\n",
       "      <th>630</th>\n",
       "      <td>118340</td>\n",
       "      <td>tt2015381</td>\n",
       "      <td>14.311205</td>\n",
       "      <td>170000000.0</td>\n",
       "      <td>7.733124e+08</td>\n",
       "      <td>6.033124e+08</td>\n",
       "      <td>Guardians of the Galaxy</td>\n",
       "      <td>Chris Pratt|Zoe Saldana|Dave Bautista|Vin Dies...</td>\n",
       "      <td>James Gunn</td>\n",
       "      <td>121.0</td>\n",
       "      <td>Action|Science Fiction|Adventure</td>\n",
       "      <td>Marvel Studios|Moving Picture Company (MPC)|Bu...</td>\n",
       "      <td>5612</td>\n",
       "      <td>7.9</td>\n",
       "      <td>2014</td>\n",
       "    </tr>\n",
       "    <tr>\n",
       "      <th>631</th>\n",
       "      <td>100402</td>\n",
       "      <td>tt1843866</td>\n",
       "      <td>12.971027</td>\n",
       "      <td>170000000.0</td>\n",
       "      <td>7.147666e+08</td>\n",
       "      <td>5.447666e+08</td>\n",
       "      <td>Captain America: The Winter Soldier</td>\n",
       "      <td>Chris Evans|Scarlett Johansson|Sebastian Stan|...</td>\n",
       "      <td>Joe Russo|Anthony Russo</td>\n",
       "      <td>136.0</td>\n",
       "      <td>Action|Adventure|Science Fiction</td>\n",
       "      <td>Marvel Studios</td>\n",
       "      <td>3848</td>\n",
       "      <td>7.6</td>\n",
       "      <td>2014</td>\n",
       "    </tr>\n",
       "    <tr>\n",
       "      <th>632</th>\n",
       "      <td>245891</td>\n",
       "      <td>tt2911666</td>\n",
       "      <td>11.422751</td>\n",
       "      <td>20000000.0</td>\n",
       "      <td>7.873990e+07</td>\n",
       "      <td>5.873990e+07</td>\n",
       "      <td>John Wick</td>\n",
       "      <td>Keanu Reeves|Michael Nyqvist|Alfie Allen|Wille...</td>\n",
       "      <td>Chad Stahelski|David Leitch</td>\n",
       "      <td>101.0</td>\n",
       "      <td>Action|Thriller</td>\n",
       "      <td>Thunder Road Pictures|Warner Bros.|87Eleven|De...</td>\n",
       "      <td>2712</td>\n",
       "      <td>7.0</td>\n",
       "      <td>2014</td>\n",
       "    </tr>\n",
       "    <tr>\n",
       "      <th>633</th>\n",
       "      <td>131631</td>\n",
       "      <td>tt1951265</td>\n",
       "      <td>10.739009</td>\n",
       "      <td>125000000.0</td>\n",
       "      <td>7.521002e+08</td>\n",
       "      <td>6.271002e+08</td>\n",
       "      <td>The Hunger Games: Mockingjay - Part 1</td>\n",
       "      <td>Jennifer Lawrence|Josh Hutcherson|Liam Hemswor...</td>\n",
       "      <td>Francis Lawrence</td>\n",
       "      <td>123.0</td>\n",
       "      <td>Science Fiction|Adventure|Thriller</td>\n",
       "      <td>Lionsgate|Color Force</td>\n",
       "      <td>3590</td>\n",
       "      <td>6.6</td>\n",
       "      <td>2014</td>\n",
       "    </tr>\n",
       "    <tr>\n",
       "      <th>634</th>\n",
       "      <td>122917</td>\n",
       "      <td>tt2310332</td>\n",
       "      <td>10.174599</td>\n",
       "      <td>250000000.0</td>\n",
       "      <td>9.551198e+08</td>\n",
       "      <td>7.051198e+08</td>\n",
       "      <td>The Hobbit: The Battle of the Five Armies</td>\n",
       "      <td>Martin Freeman|Ian McKellen|Richard Armitage|K...</td>\n",
       "      <td>Peter Jackson</td>\n",
       "      <td>144.0</td>\n",
       "      <td>Adventure|Fantasy</td>\n",
       "      <td>WingNut Films|New Line Cinema|3Foot7|Metro-Gol...</td>\n",
       "      <td>3110</td>\n",
       "      <td>7.1</td>\n",
       "      <td>2014</td>\n",
       "    </tr>\n",
       "    <tr>\n",
       "      <th>1329</th>\n",
       "      <td>11</td>\n",
       "      <td>tt0076759</td>\n",
       "      <td>12.037933</td>\n",
       "      <td>11000000.0</td>\n",
       "      <td>7.753980e+08</td>\n",
       "      <td>7.643980e+08</td>\n",
       "      <td>Star Wars</td>\n",
       "      <td>Mark Hamill|Harrison Ford|Carrie Fisher|Peter ...</td>\n",
       "      <td>George Lucas</td>\n",
       "      <td>121.0</td>\n",
       "      <td>Adventure|Action|Science Fiction</td>\n",
       "      <td>Lucasfilm|Twentieth Century Fox Film Corporation</td>\n",
       "      <td>4428</td>\n",
       "      <td>7.9</td>\n",
       "      <td>1977</td>\n",
       "    </tr>\n",
       "  </tbody>\n",
       "</table>\n",
       "</div>"
      ],
      "text/plain": [
       "          id    imdb_id  popularity       budget       revenue        profit  \\\n",
       "0     135397  tt0369610   32.985763  150000000.0  1.513529e+09  1.363529e+09   \n",
       "1      76341  tt1392190   28.419936  150000000.0  3.784364e+08  2.284364e+08   \n",
       "2     262500  tt2908446   13.112507  110000000.0  2.952382e+08  1.852382e+08   \n",
       "3     140607  tt2488496   11.173104  200000000.0  2.068178e+09  1.868178e+09   \n",
       "629   157336  tt0816692   24.949134  165000000.0  6.217525e+08  4.567525e+08   \n",
       "630   118340  tt2015381   14.311205  170000000.0  7.733124e+08  6.033124e+08   \n",
       "631   100402  tt1843866   12.971027  170000000.0  7.147666e+08  5.447666e+08   \n",
       "632   245891  tt2911666   11.422751   20000000.0  7.873990e+07  5.873990e+07   \n",
       "633   131631  tt1951265   10.739009  125000000.0  7.521002e+08  6.271002e+08   \n",
       "634   122917  tt2310332   10.174599  250000000.0  9.551198e+08  7.051198e+08   \n",
       "1329      11  tt0076759   12.037933   11000000.0  7.753980e+08  7.643980e+08   \n",
       "\n",
       "                                 original_title  \\\n",
       "0                                Jurassic World   \n",
       "1                            Mad Max: Fury Road   \n",
       "2                                     Insurgent   \n",
       "3                  Star Wars: The Force Awakens   \n",
       "629                                Interstellar   \n",
       "630                     Guardians of the Galaxy   \n",
       "631         Captain America: The Winter Soldier   \n",
       "632                                   John Wick   \n",
       "633       The Hunger Games: Mockingjay - Part 1   \n",
       "634   The Hobbit: The Battle of the Five Armies   \n",
       "1329                                  Star Wars   \n",
       "\n",
       "                                                   cast  \\\n",
       "0     Chris Pratt|Bryce Dallas Howard|Irrfan Khan|Vi...   \n",
       "1     Tom Hardy|Charlize Theron|Hugh Keays-Byrne|Nic...   \n",
       "2     Shailene Woodley|Theo James|Kate Winslet|Ansel...   \n",
       "3     Harrison Ford|Mark Hamill|Carrie Fisher|Adam D...   \n",
       "629   Matthew McConaughey|Jessica Chastain|Anne Hath...   \n",
       "630   Chris Pratt|Zoe Saldana|Dave Bautista|Vin Dies...   \n",
       "631   Chris Evans|Scarlett Johansson|Sebastian Stan|...   \n",
       "632   Keanu Reeves|Michael Nyqvist|Alfie Allen|Wille...   \n",
       "633   Jennifer Lawrence|Josh Hutcherson|Liam Hemswor...   \n",
       "634   Martin Freeman|Ian McKellen|Richard Armitage|K...   \n",
       "1329  Mark Hamill|Harrison Ford|Carrie Fisher|Peter ...   \n",
       "\n",
       "                         director  runtime  \\\n",
       "0                 Colin Trevorrow    124.0   \n",
       "1                   George Miller    120.0   \n",
       "2                Robert Schwentke    119.0   \n",
       "3                     J.J. Abrams    136.0   \n",
       "629             Christopher Nolan    169.0   \n",
       "630                    James Gunn    121.0   \n",
       "631       Joe Russo|Anthony Russo    136.0   \n",
       "632   Chad Stahelski|David Leitch    101.0   \n",
       "633              Francis Lawrence    123.0   \n",
       "634                 Peter Jackson    144.0   \n",
       "1329                 George Lucas    121.0   \n",
       "\n",
       "                                         genres  \\\n",
       "0     Action|Adventure|Science Fiction|Thriller   \n",
       "1     Action|Adventure|Science Fiction|Thriller   \n",
       "2            Adventure|Science Fiction|Thriller   \n",
       "3      Action|Adventure|Science Fiction|Fantasy   \n",
       "629             Adventure|Drama|Science Fiction   \n",
       "630            Action|Science Fiction|Adventure   \n",
       "631            Action|Adventure|Science Fiction   \n",
       "632                             Action|Thriller   \n",
       "633          Science Fiction|Adventure|Thriller   \n",
       "634                           Adventure|Fantasy   \n",
       "1329           Adventure|Action|Science Fiction   \n",
       "\n",
       "                                   production_companies  vote_count  \\\n",
       "0     Universal Studios|Amblin Entertainment|Legenda...        5562   \n",
       "1     Village Roadshow Pictures|Kennedy Miller Produ...        6185   \n",
       "2     Summit Entertainment|Mandeville Films|Red Wago...        2480   \n",
       "3             Lucasfilm|Truenorth Productions|Bad Robot        5292   \n",
       "629   Paramount Pictures|Legendary Pictures|Warner B...        6498   \n",
       "630   Marvel Studios|Moving Picture Company (MPC)|Bu...        5612   \n",
       "631                                      Marvel Studios        3848   \n",
       "632   Thunder Road Pictures|Warner Bros.|87Eleven|De...        2712   \n",
       "633                               Lionsgate|Color Force        3590   \n",
       "634   WingNut Films|New Line Cinema|3Foot7|Metro-Gol...        3110   \n",
       "1329   Lucasfilm|Twentieth Century Fox Film Corporation        4428   \n",
       "\n",
       "      vote_average  release_year  \n",
       "0              6.5          2015  \n",
       "1              7.1          2015  \n",
       "2              6.3          2015  \n",
       "3              7.5          2015  \n",
       "629            8.0          2014  \n",
       "630            7.9          2014  \n",
       "631            7.6          2014  \n",
       "632            7.0          2014  \n",
       "633            6.6          2014  \n",
       "634            7.1          2014  \n",
       "1329           7.9          1977  "
      ]
     },
     "execution_count": 19,
     "metadata": {},
     "output_type": "execute_result"
    }
   ],
   "source": [
    "df[df['popularity'] > 10]"
   ]
  },
  {
   "cell_type": "markdown",
   "metadata": {},
   "source": [
    "> Here we have **11 movies** with popularity that exceeds 10\n",
    "\n",
    "> Does popularity affect **vote_average?**"
   ]
  },
  {
   "cell_type": "code",
   "execution_count": 20,
   "metadata": {},
   "outputs": [
    {
     "data": {
      "text/html": [
       "<div>\n",
       "<style scoped>\n",
       "    .dataframe tbody tr th:only-of-type {\n",
       "        vertical-align: middle;\n",
       "    }\n",
       "\n",
       "    .dataframe tbody tr th {\n",
       "        vertical-align: top;\n",
       "    }\n",
       "\n",
       "    .dataframe thead th {\n",
       "        text-align: right;\n",
       "    }\n",
       "</style>\n",
       "<table border=\"1\" class=\"dataframe\">\n",
       "  <thead>\n",
       "    <tr style=\"text-align: right;\">\n",
       "      <th></th>\n",
       "      <th>vote_count</th>\n",
       "      <th>vote_average</th>\n",
       "    </tr>\n",
       "  </thead>\n",
       "  <tbody>\n",
       "    <tr>\n",
       "      <th>count</th>\n",
       "      <td>2618.000000</td>\n",
       "      <td>2618.000000</td>\n",
       "    </tr>\n",
       "    <tr>\n",
       "      <th>mean</th>\n",
       "      <td>193.149351</td>\n",
       "      <td>6.008136</td>\n",
       "    </tr>\n",
       "    <tr>\n",
       "      <th>std</th>\n",
       "      <td>275.945780</td>\n",
       "      <td>0.761867</td>\n",
       "    </tr>\n",
       "    <tr>\n",
       "      <th>min</th>\n",
       "      <td>10.000000</td>\n",
       "      <td>2.200000</td>\n",
       "    </tr>\n",
       "    <tr>\n",
       "      <th>25%</th>\n",
       "      <td>48.000000</td>\n",
       "      <td>5.500000</td>\n",
       "    </tr>\n",
       "    <tr>\n",
       "      <th>50%</th>\n",
       "      <td>115.000000</td>\n",
       "      <td>6.000000</td>\n",
       "    </tr>\n",
       "    <tr>\n",
       "      <th>75%</th>\n",
       "      <td>240.000000</td>\n",
       "      <td>6.600000</td>\n",
       "    </tr>\n",
       "    <tr>\n",
       "      <th>max</th>\n",
       "      <td>4368.000000</td>\n",
       "      <td>8.400000</td>\n",
       "    </tr>\n",
       "  </tbody>\n",
       "</table>\n",
       "</div>"
      ],
      "text/plain": [
       "        vote_count  vote_average\n",
       "count  2618.000000   2618.000000\n",
       "mean    193.149351      6.008136\n",
       "std     275.945780      0.761867\n",
       "min      10.000000      2.200000\n",
       "25%      48.000000      5.500000\n",
       "50%     115.000000      6.000000\n",
       "75%     240.000000      6.600000\n",
       "max    4368.000000      8.400000"
      ]
     },
     "execution_count": 20,
     "metadata": {},
     "output_type": "execute_result"
    }
   ],
   "source": [
    "df[['vote_count', 'vote_average']][df['popularity'] < df.popularity.mean()].describe()"
   ]
  },
  {
   "cell_type": "code",
   "execution_count": 21,
   "metadata": {},
   "outputs": [
    {
     "data": {
      "text/html": [
       "<div>\n",
       "<style scoped>\n",
       "    .dataframe tbody tr th:only-of-type {\n",
       "        vertical-align: middle;\n",
       "    }\n",
       "\n",
       "    .dataframe tbody tr th {\n",
       "        vertical-align: top;\n",
       "    }\n",
       "\n",
       "    .dataframe thead th {\n",
       "        text-align: right;\n",
       "    }\n",
       "</style>\n",
       "<table border=\"1\" class=\"dataframe\">\n",
       "  <thead>\n",
       "    <tr style=\"text-align: right;\">\n",
       "      <th></th>\n",
       "      <th>vote_count</th>\n",
       "      <th>vote_average</th>\n",
       "    </tr>\n",
       "  </thead>\n",
       "  <tbody>\n",
       "    <tr>\n",
       "      <th>count</th>\n",
       "      <td>1187.000000</td>\n",
       "      <td>1187.000000</td>\n",
       "    </tr>\n",
       "    <tr>\n",
       "      <th>mean</th>\n",
       "      <td>1286.276327</td>\n",
       "      <td>6.528812</td>\n",
       "    </tr>\n",
       "    <tr>\n",
       "      <th>std</th>\n",
       "      <td>1230.531573</td>\n",
       "      <td>0.739351</td>\n",
       "    </tr>\n",
       "    <tr>\n",
       "      <th>min</th>\n",
       "      <td>10.000000</td>\n",
       "      <td>3.700000</td>\n",
       "    </tr>\n",
       "    <tr>\n",
       "      <th>25%</th>\n",
       "      <td>501.500000</td>\n",
       "      <td>6.000000</td>\n",
       "    </tr>\n",
       "    <tr>\n",
       "      <th>50%</th>\n",
       "      <td>857.000000</td>\n",
       "      <td>6.500000</td>\n",
       "    </tr>\n",
       "    <tr>\n",
       "      <th>75%</th>\n",
       "      <td>1655.500000</td>\n",
       "      <td>7.100000</td>\n",
       "    </tr>\n",
       "    <tr>\n",
       "      <th>max</th>\n",
       "      <td>9767.000000</td>\n",
       "      <td>8.400000</td>\n",
       "    </tr>\n",
       "  </tbody>\n",
       "</table>\n",
       "</div>"
      ],
      "text/plain": [
       "        vote_count  vote_average\n",
       "count  1187.000000   1187.000000\n",
       "mean   1286.276327      6.528812\n",
       "std    1230.531573      0.739351\n",
       "min      10.000000      3.700000\n",
       "25%     501.500000      6.000000\n",
       "50%     857.000000      6.500000\n",
       "75%    1655.500000      7.100000\n",
       "max    9767.000000      8.400000"
      ]
     },
     "execution_count": 21,
     "metadata": {},
     "output_type": "execute_result"
    }
   ],
   "source": [
    "df[['vote_count', 'vote_average']][df['popularity'] > df.popularity.mean()].describe()"
   ]
  },
  {
   "cell_type": "markdown",
   "metadata": {},
   "source": [
    "> It does seem the more popular movies get a higher score. But the **less popular** can still get high scores. And we don't know how popularity is calculated."
   ]
  },
  {
   "cell_type": "markdown",
   "metadata": {},
   "source": [
    "### Research Question 2: What are the most profitable & least profitable movies?"
   ]
  },
  {
   "cell_type": "code",
   "execution_count": 45,
   "metadata": {},
   "outputs": [
    {
     "data": {
      "text/html": [
       "<div>\n",
       "<style scoped>\n",
       "    .dataframe tbody tr th:only-of-type {\n",
       "        vertical-align: middle;\n",
       "    }\n",
       "\n",
       "    .dataframe tbody tr th {\n",
       "        vertical-align: top;\n",
       "    }\n",
       "\n",
       "    .dataframe thead th {\n",
       "        text-align: right;\n",
       "    }\n",
       "</style>\n",
       "<table border=\"1\" class=\"dataframe\">\n",
       "  <thead>\n",
       "    <tr style=\"text-align: right;\">\n",
       "      <th></th>\n",
       "      <th>original_title</th>\n",
       "      <th>release_year</th>\n",
       "      <th>vote_average</th>\n",
       "      <th>profit</th>\n",
       "    </tr>\n",
       "  </thead>\n",
       "  <tbody>\n",
       "    <tr>\n",
       "      <th>1386</th>\n",
       "      <td>Avatar</td>\n",
       "      <td>2009</td>\n",
       "      <td>7.1</td>\n",
       "      <td>2.544506e+09</td>\n",
       "    </tr>\n",
       "    <tr>\n",
       "      <th>3</th>\n",
       "      <td>Star Wars: The Force Awakens</td>\n",
       "      <td>2015</td>\n",
       "      <td>7.5</td>\n",
       "      <td>1.868178e+09</td>\n",
       "    </tr>\n",
       "    <tr>\n",
       "      <th>5231</th>\n",
       "      <td>Titanic</td>\n",
       "      <td>1997</td>\n",
       "      <td>7.3</td>\n",
       "      <td>1.645034e+09</td>\n",
       "    </tr>\n",
       "    <tr>\n",
       "      <th>0</th>\n",
       "      <td>Jurassic World</td>\n",
       "      <td>2015</td>\n",
       "      <td>6.5</td>\n",
       "      <td>1.363529e+09</td>\n",
       "    </tr>\n",
       "    <tr>\n",
       "      <th>4</th>\n",
       "      <td>Furious 7</td>\n",
       "      <td>2015</td>\n",
       "      <td>7.3</td>\n",
       "      <td>1.316249e+09</td>\n",
       "    </tr>\n",
       "  </tbody>\n",
       "</table>\n",
       "</div>"
      ],
      "text/plain": [
       "                    original_title  release_year  vote_average        profit\n",
       "1386                        Avatar          2009           7.1  2.544506e+09\n",
       "3     Star Wars: The Force Awakens          2015           7.5  1.868178e+09\n",
       "5231                       Titanic          1997           7.3  1.645034e+09\n",
       "0                   Jurassic World          2015           6.5  1.363529e+09\n",
       "4                        Furious 7          2015           7.3  1.316249e+09"
      ]
     },
     "execution_count": 45,
     "metadata": {},
     "output_type": "execute_result"
    }
   ],
   "source": [
    "df[['original_title', 'release_year', 'vote_average','profit']].sort_values(['profit'], ascending=False).head(5)"
   ]
  },
  {
   "cell_type": "code",
   "execution_count": 46,
   "metadata": {},
   "outputs": [
    {
     "data": {
      "text/html": [
       "<div>\n",
       "<style scoped>\n",
       "    .dataframe tbody tr th:only-of-type {\n",
       "        vertical-align: middle;\n",
       "    }\n",
       "\n",
       "    .dataframe tbody tr th {\n",
       "        vertical-align: top;\n",
       "    }\n",
       "\n",
       "    .dataframe thead th {\n",
       "        text-align: right;\n",
       "    }\n",
       "</style>\n",
       "<table border=\"1\" class=\"dataframe\">\n",
       "  <thead>\n",
       "    <tr style=\"text-align: right;\">\n",
       "      <th></th>\n",
       "      <th>original_title</th>\n",
       "      <th>release_year</th>\n",
       "      <th>vote_average</th>\n",
       "      <th>profit</th>\n",
       "    </tr>\n",
       "  </thead>\n",
       "  <tbody>\n",
       "    <tr>\n",
       "      <th>2244</th>\n",
       "      <td>The Warrior's Way</td>\n",
       "      <td>2010</td>\n",
       "      <td>6.4</td>\n",
       "      <td>-413912431.0</td>\n",
       "    </tr>\n",
       "    <tr>\n",
       "      <th>5508</th>\n",
       "      <td>The Lone Ranger</td>\n",
       "      <td>2013</td>\n",
       "      <td>6.0</td>\n",
       "      <td>-165710090.0</td>\n",
       "    </tr>\n",
       "    <tr>\n",
       "      <th>7031</th>\n",
       "      <td>The Alamo</td>\n",
       "      <td>2004</td>\n",
       "      <td>5.9</td>\n",
       "      <td>-119180039.0</td>\n",
       "    </tr>\n",
       "    <tr>\n",
       "      <th>3484</th>\n",
       "      <td>Mars Needs Moms</td>\n",
       "      <td>2011</td>\n",
       "      <td>5.5</td>\n",
       "      <td>-111007242.0</td>\n",
       "    </tr>\n",
       "    <tr>\n",
       "      <th>4970</th>\n",
       "      <td>Brother Bear</td>\n",
       "      <td>2003</td>\n",
       "      <td>6.8</td>\n",
       "      <td>-99999750.0</td>\n",
       "    </tr>\n",
       "  </tbody>\n",
       "</table>\n",
       "</div>"
      ],
      "text/plain": [
       "         original_title  release_year  vote_average       profit\n",
       "2244  The Warrior's Way          2010           6.4 -413912431.0\n",
       "5508    The Lone Ranger          2013           6.0 -165710090.0\n",
       "7031          The Alamo          2004           5.9 -119180039.0\n",
       "3484    Mars Needs Moms          2011           5.5 -111007242.0\n",
       "4970       Brother Bear          2003           6.8  -99999750.0"
      ]
     },
     "execution_count": 46,
     "metadata": {},
     "output_type": "execute_result"
    }
   ],
   "source": [
    "df[['original_title', 'release_year', 'vote_average','profit']].sort_values(['profit'], ascending=True).head(5)"
   ]
  },
  {
   "cell_type": "code",
   "execution_count": 50,
   "metadata": {},
   "outputs": [
    {
     "data": {
      "text/html": [
       "<div>\n",
       "<style scoped>\n",
       "    .dataframe tbody tr th:only-of-type {\n",
       "        vertical-align: middle;\n",
       "    }\n",
       "\n",
       "    .dataframe tbody tr th {\n",
       "        vertical-align: top;\n",
       "    }\n",
       "\n",
       "    .dataframe thead th {\n",
       "        text-align: right;\n",
       "    }\n",
       "</style>\n",
       "<table border=\"1\" class=\"dataframe\">\n",
       "  <thead>\n",
       "    <tr style=\"text-align: right;\">\n",
       "      <th></th>\n",
       "      <th>original_title</th>\n",
       "      <th>release_year</th>\n",
       "      <th>vote_average</th>\n",
       "      <th>profit</th>\n",
       "    </tr>\n",
       "  </thead>\n",
       "  <tbody>\n",
       "    <tr>\n",
       "      <th>5852</th>\n",
       "      <td>Hross Ã­ oss</td>\n",
       "      <td>2013</td>\n",
       "      <td>6.5</td>\n",
       "      <td>1.0</td>\n",
       "    </tr>\n",
       "    <tr>\n",
       "      <th>8235</th>\n",
       "      <td>Tales from the Hood</td>\n",
       "      <td>1995</td>\n",
       "      <td>5.1</td>\n",
       "      <td>5.0</td>\n",
       "    </tr>\n",
       "    <tr>\n",
       "      <th>4675</th>\n",
       "      <td>Joyful Noise</td>\n",
       "      <td>2012</td>\n",
       "      <td>6.7</td>\n",
       "      <td>5.0</td>\n",
       "    </tr>\n",
       "    <tr>\n",
       "      <th>8125</th>\n",
       "      <td>The Prophecy</td>\n",
       "      <td>1995</td>\n",
       "      <td>5.5</td>\n",
       "      <td>8.0</td>\n",
       "    </tr>\n",
       "    <tr>\n",
       "      <th>10050</th>\n",
       "      <td>Tales from the Darkside: The Movie</td>\n",
       "      <td>1990</td>\n",
       "      <td>5.8</td>\n",
       "      <td>13.0</td>\n",
       "    </tr>\n",
       "  </tbody>\n",
       "</table>\n",
       "</div>"
      ],
      "text/plain": [
       "                           original_title  release_year  vote_average  profit\n",
       "5852                         Hross Ã­ oss          2013           6.5     1.0\n",
       "8235                  Tales from the Hood          1995           5.1     5.0\n",
       "4675                         Joyful Noise          2012           6.7     5.0\n",
       "8125                         The Prophecy          1995           5.5     8.0\n",
       "10050  Tales from the Darkside: The Movie          1990           5.8    13.0"
      ]
     },
     "execution_count": 50,
     "metadata": {},
     "output_type": "execute_result"
    }
   ],
   "source": [
    "df[['original_title', 'release_year', 'vote_average','profit']][df['profit'] > 0].sort_values(['profit'], ascending=True).head(5)"
   ]
  },
  {
   "cell_type": "markdown",
   "metadata": {},
   "source": [
    "> Values for the least profitable movies doesn't seem to be realistic, even when eliminating negative values. **I will investigate the most profitable movies**"
   ]
  },
  {
   "cell_type": "code",
   "execution_count": 25,
   "metadata": {},
   "outputs": [
    {
     "data": {
      "text/plain": [
       "id                      1061\n",
       "imdb_id                 1061\n",
       "popularity              1061\n",
       "budget                  1061\n",
       "revenue                 1061\n",
       "profit                  1061\n",
       "original_title          1061\n",
       "cast                    1061\n",
       "director                1061\n",
       "runtime                 1061\n",
       "genres                  1061\n",
       "production_companies    1061\n",
       "vote_count              1061\n",
       "vote_average            1061\n",
       "release_year            1061\n",
       "dtype: int64"
      ]
     },
     "execution_count": 25,
     "metadata": {},
     "output_type": "execute_result"
    }
   ],
   "source": [
    "most_profits = df[df['profit'] > df.profit.mean()]\n",
    "\n",
    "most_profits.count()"
   ]
  },
  {
   "cell_type": "markdown",
   "metadata": {},
   "source": [
    "> The most profitable movies only have **1061 rows**."
   ]
  },
  {
   "cell_type": "code",
   "execution_count": 26,
   "metadata": {},
   "outputs": [
    {
     "data": {
      "text/plain": [
       "count    3.805000e+03\n",
       "mean     3.760800e+07\n",
       "std      4.232179e+07\n",
       "min      1.000000e+00\n",
       "25%      1.000000e+07\n",
       "50%      2.500000e+07\n",
       "75%      5.000000e+07\n",
       "max      4.250000e+08\n",
       "Name: budget, dtype: float64"
      ]
     },
     "execution_count": 26,
     "metadata": {},
     "output_type": "execute_result"
    }
   ],
   "source": [
    "df['budget'].describe()"
   ]
  },
  {
   "cell_type": "code",
   "execution_count": 27,
   "metadata": {},
   "outputs": [
    {
     "data": {
      "text/plain": [
       "count    1.061000e+03\n",
       "mean     6.658046e+07\n",
       "std      5.556387e+07\n",
       "min      1.130000e+02\n",
       "25%      2.500000e+07\n",
       "50%      5.000000e+07\n",
       "75%      9.000000e+07\n",
       "max      3.800000e+08\n",
       "Name: budget, dtype: float64"
      ]
     },
     "execution_count": 27,
     "metadata": {},
     "output_type": "execute_result"
    }
   ],
   "source": [
    "most_profits['budget'].describe()"
   ]
  },
  {
   "cell_type": "markdown",
   "metadata": {},
   "source": [
    "> The most profitable movies also have a **higher budget on average**."
   ]
  },
  {
   "cell_type": "markdown",
   "metadata": {},
   "source": [
    "> **Next,** I will look into **actors** and **production companies**"
   ]
  },
  {
   "cell_type": "code",
   "execution_count": 28,
   "metadata": {},
   "outputs": [],
   "source": [
    "#This function extracts data from columns that have '|' as a separator\n",
    "\n",
    "def extract_data(column):\n",
    "    data = most_profits[column].str.cat(sep='|')\n",
    "    data = pd.Series(data.split('|'))\n",
    "    data = data.value_counts(ascending=False)\n",
    "    \n",
    "    return data"
   ]
  },
  {
   "cell_type": "code",
   "execution_count": 29,
   "metadata": {},
   "outputs": [
    {
     "data": {
      "text/plain": [
       "Tom Cruise            26\n",
       "Sylvester Stallone    20\n",
       "Brad Pitt             20\n",
       "Tom Hanks             20\n",
       "Cameron Diaz          18\n",
       "dtype: int64"
      ]
     },
     "execution_count": 29,
     "metadata": {},
     "output_type": "execute_result"
    }
   ],
   "source": [
    "actors = extract_data('cast')\n",
    "\n",
    "actors.head(5)"
   ]
  },
  {
   "cell_type": "markdown",
   "metadata": {},
   "source": [
    "> These 5 **actors** are the most popular in the most profitable movies."
   ]
  },
  {
   "cell_type": "code",
   "execution_count": 30,
   "metadata": {},
   "outputs": [
    {
     "data": {
      "text/plain": [
       "Universal Pictures                        131\n",
       "Warner Bros.                              119\n",
       "Paramount Pictures                        107\n",
       "Twentieth Century Fox Film Corporation    102\n",
       "Columbia Pictures                          73\n",
       "dtype: int64"
      ]
     },
     "execution_count": 30,
     "metadata": {},
     "output_type": "execute_result"
    }
   ],
   "source": [
    "companies = extract_data('production_companies')\n",
    "\n",
    "companies.head(5)"
   ]
  },
  {
   "cell_type": "markdown",
   "metadata": {},
   "source": [
    "> 'Universal Pictures' followed by 'Warner Bros.' participated in the making of the most profitable movies."
   ]
  },
  {
   "cell_type": "markdown",
   "metadata": {},
   "source": [
    "### Research Question 3: In what year movies made the most profits?"
   ]
  },
  {
   "cell_type": "code",
   "execution_count": 31,
   "metadata": {},
   "outputs": [
    {
     "data": {
      "image/png": "[encoded data removed]",
      "text/plain": [
       "<Figure size 1000x500 with 1 Axes>"
      ]
     },
     "metadata": {},
     "output_type": "display_data"
    }
   ],
   "source": [
    "profits_by_year = df.groupby('release_year')['profit'].sum()\n",
    "\n",
    "plt.figure(figsize=(10,5), dpi = 100)\n",
    "plt.title('Profits of All Movies Each Year', fontsize=18)\n",
    "plt.xlabel('Year', fontsize=15)\n",
    "plt.ylabel('Profits Earned', fontsize=15)\n",
    "plt.plot(profits_by_year);"
   ]
  },
  {
   "cell_type": "code",
   "execution_count": 32,
   "metadata": {},
   "outputs": [
    {
     "data": {
      "text/plain": [
       "2015"
      ]
     },
     "execution_count": 32,
     "metadata": {},
     "output_type": "execute_result"
    }
   ],
   "source": [
    "profits_by_year.idxmax()"
   ]
  },
  {
   "cell_type": "markdown",
   "metadata": {},
   "source": [
    "> It looks like movies made the most profits in **2015**."
   ]
  },
  {
   "cell_type": "markdown",
   "metadata": {},
   "source": [
    "### Research Question 5: What are the most popular genres?"
   ]
  },
  {
   "cell_type": "code",
   "execution_count": 33,
   "metadata": {},
   "outputs": [
    {
     "data": {
      "text/plain": [
       "Comedy       384\n",
       "Action       382\n",
       "Drama        365\n",
       "Adventure    321\n",
       "Thriller     308\n",
       "dtype: int64"
      ]
     },
     "execution_count": 33,
     "metadata": {},
     "output_type": "execute_result"
    }
   ],
   "source": [
    "genres = extract_data('genres')\n",
    "\n",
    "genres.head()"
   ]
  },
  {
   "cell_type": "code",
   "execution_count": 51,
   "metadata": {},
   "outputs": [
    {
     "data": {
      "image/png": "[encoded data removed]",
      "text/plain": [
       "<Figure size 1200x900 with 1 Axes>"
      ]
     },
     "metadata": {},
     "output_type": "display_data"
    }
   ],
   "source": [
    "genres.sort_values(ascending=True, inplace=True)\n",
    "\n",
    "genres.plot.barh(color='C0', fontsize=15).figure.set_size_inches(12, 9);\n",
    "plt.title('Genres in Most Profitable Movies', fontsize=18)\n",
    "plt.xlabel('Frequency of Genres', fontsize=15)\n",
    "plt.show();"
   ]
  },
  {
   "cell_type": "markdown",
   "metadata": {},
   "source": [
    "> From here we can conclude that  **'Comedy', 'Action', 'Drama', 'Adventure', 'Thriller'**  are the most popular genres in movies."
   ]
  },
  {
   "cell_type": "markdown",
   "metadata": {},
   "source": [
    "<a id='conclusions'></a>\n",
    "## Conclusions\n",
    "\n",
    "From the analysis done above \n",
    "\n",
    "**For a movie to be considered successful and generate high profit, it should have:**\n",
    "- An Average budget of 50 Million Dollars.\n",
    "- One of the well known actors including, Tom Cruise, Brad Pitt, Sylvester Stallone, Tom Hanks, Adam Sandler.\n",
    "- One of these companies participate in making the movie (Universal Pictures, Warner Bros., Paramount Pictures, Twentieth Century Fox Film Corporation, Columbia Pictures).\n",
    "- Include one or more of these genres (Comedy, Action, Drama, Adventure, Thriller).\n",
    "\n",
    "**Final Observation:** \n",
    "Although we got some great insights but there were some limitations\n",
    "\n",
    "- The dataset is very small.\n",
    "- 'budget' & 'revenue' had many missing or unrealistic values (It might be even in different currencies) \n",
    "- Null values accounted to almost two thirds of the data, dropping them affected the analysis.\n",
    "- The dataset might not be up to date."
   ]
  },
  {
   "cell_type": "code",
   "execution_count": null,
   "metadata": {},
   "outputs": [],
   "source": []
  }
 ],
 "metadata": {
  "kernelspec": {
   "display_name": "Python 3 (ipykernel)",
   "language": "python",
   "name": "python3"
  },
  "language_info": {
   "codemirror_mode": {
    "name": "ipython",
    "version": 3
   },
   "file_extension": ".py",
   "mimetype": "text/x-python",
   "name": "python",
   "nbconvert_exporter": "python",
   "pygments_lexer": "ipython3",
   "version": "3.7.6"
  }
 },
 "nbformat": 4,
 "nbformat_minor": 2
}
